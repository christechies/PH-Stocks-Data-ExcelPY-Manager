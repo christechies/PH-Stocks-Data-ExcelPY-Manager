{
 "cells": [
  {
   "cell_type": "code",
   "execution_count": 6,
   "metadata": {},
   "outputs": [],
   "source": [
    "import mysql.connector\n",
    "import pandas as pd"
   ]
  },
  {
   "cell_type": "code",
   "execution_count": 17,
   "metadata": {},
   "outputs": [
    {
     "data": {
      "text/plain": [
       "('asasas', 'asasas')"
      ]
     },
     "execution_count": 17,
     "metadata": {},
     "output_type": "execute_result"
    }
   ],
   "source": [
    "tuple(['asasas','asasas'])"
   ]
  },
  {
   "cell_type": "code",
   "execution_count": 3,
   "metadata": {},
   "outputs": [
    {
     "data": {
      "text/plain": [
       "[(2, 2), (1, 1)]"
      ]
     },
     "execution_count": 3,
     "metadata": {},
     "output_type": "execute_result"
    }
   ],
   "source": [
    "df = [{'tf1':2,'tf2':1},{'tf1':1,'tf2':3}]\n",
    "tps = [(i[list(i.keys())[0]], i[list(i.keys())[0]]) for i in df ]\n",
    "tps"
   ]
  },
  {
   "cell_type": "code",
   "execution_count": 12,
   "metadata": {},
   "outputs": [],
   "source": [
    "df = [{'tf1':0,'tf2':1},{'tf1':1,'tf2':0}]\n",
    "data=[]\n",
    "for i in df:\n",
    "    tp = []\n",
    "    for x in i.keys():\n",
    "        tp.append(i[x])\n",
    "    data.append(tuple(tp))"
   ]
  },
  {
   "cell_type": "code",
   "execution_count": 13,
   "metadata": {},
   "outputs": [
    {
     "data": {
      "text/plain": [
       "[(0, 1), (1, 0)]"
      ]
     },
     "execution_count": 13,
     "metadata": {},
     "output_type": "execute_result"
    }
   ],
   "source": [
    "data"
   ]
  },
  {
   "cell_type": "code",
   "execution_count": 34,
   "metadata": {},
   "outputs": [
    {
     "name": "stdout",
     "output_type": "stream",
     "text": [
      "(1, 0)\n",
      "(1, 0)\n",
      "(1, 0)\n",
      "(1, 0)\n",
      "(1, 0)\n",
      "(1, 0)\n"
     ]
    },
    {
     "data": {
      "text/plain": [
       "True"
      ]
     },
     "execution_count": 34,
     "metadata": {},
     "output_type": "execute_result"
    }
   ],
   "source": [
    "mydb = mysql.connector.connect(host='localhost',user='root',password='sql05CB2021',database='test')\n",
    "myCursor = mydb.cursor()\n",
    "myCursor.execute('SELECT * FROM testing_functions WHERE tf1=1')\n",
    "d = myCursor.fetchall()\n",
    "desc = myCursor.description\n",
    "for i in d:\n",
    "    print(i)\n",
    "myCursor.close()"
   ]
  },
  {
   "cell_type": "code",
   "execution_count": 99,
   "metadata": {},
   "outputs": [
    {
     "data": {
      "text/plain": [
       "[('tf1', 3, None, None, None, None, None, 0, 36865),\n",
       " ('tf2', 3, None, None, None, None, None, 0, 36865)]"
      ]
     },
     "execution_count": 99,
     "metadata": {},
     "output_type": "execute_result"
    }
   ],
   "source": [
    "desc"
   ]
  },
  {
   "cell_type": "code",
   "execution_count": 22,
   "metadata": {},
   "outputs": [
    {
     "data": {
      "text/plain": [
       "True"
      ]
     },
     "execution_count": 22,
     "metadata": {},
     "output_type": "execute_result"
    }
   ],
   "source": [
    "mydb = mysql.connector.connect(host='localhost',user='root',password='sql05CB2021',database='test')\n",
    "myCursor = mydb.cursor()\n",
    "execute = \"SELECT * FROM testing_functions\"\n",
    "myCursor.execute(execute)\n",
    "results = myCursor.fetchall()\n",
    "desc = myCursor.description\n",
    "mydb.commit()\n",
    "myCursor.close()"
   ]
  },
  {
   "cell_type": "code",
   "execution_count": 25,
   "metadata": {},
   "outputs": [
    {
     "data": {
      "text/plain": [
       "[('tf1', 3, None, None, None, None, None, 0, 36865),\n",
       " ('tf2', 3, None, None, None, None, None, 0, 36865)]"
      ]
     },
     "execution_count": 25,
     "metadata": {},
     "output_type": "execute_result"
    }
   ],
   "source": [
    "desc"
   ]
  },
  {
   "cell_type": "code",
   "execution_count": 30,
   "metadata": {},
   "outputs": [
    {
     "name": "stdout",
     "output_type": "stream",
     "text": [
      "11 1\n",
      "12 2\n",
      "13 3\n"
     ]
    }
   ],
   "source": [
    "lis = [11,12,13,14,15]\n",
    "lis2 = [1,2,3]\n",
    "\n",
    "for x,y in zip(lis,lis2):\n",
    "    print(x,y)"
   ]
  },
  {
   "cell_type": "code",
   "execution_count": 10,
   "metadata": {},
   "outputs": [
    {
     "data": {
      "text/plain": [
       "[{'tf1': 0, 'tf2': 1}, {'tf1': 0, 'tf2': 1}, {'tf1': 0, 'tf2': 1}]"
      ]
     },
     "execution_count": 10,
     "metadata": {},
     "output_type": "execute_result"
    }
   ],
   "source": [
    "def checkFetch_data(data_full,db_name,tb_name,id_cols=[]):\n",
    "    #finds a dataset worth of records\n",
    "    #returns a dataset if records are found and an empty list if not\n",
    "    data_avail= []\n",
    "    for i in data_full:\n",
    "        if len(id_cols) == 1:\n",
    "            execute = 'SELECT * FROM {tb_n} WHERE {col_chg} = {val}'.format(tb_n=tb_name,col_chg=id_cols[0],val=i[id_cols[0]])\n",
    "        elif len(id_cols) == 2:\n",
    "            execute = 'SELECT * FROM {tb_n} WHERE {col_chg} = {val} AND {col_chg2} = {val2}'.format(tb_n=tb_name,col_chg=id_cols[0],val=i[id_cols[0]],col_chg2=id_cols[1],val2=i[id_cols[1]])\n",
    "        mydb = mysql.connector.connect(host='localhost',user='root',password='sql05CB2021',database=db_name)\n",
    "        myCursor = mydb.cursor()\n",
    "        myCursor.execute(execute)\n",
    "        results = myCursor.fetchall()\n",
    "        for res in results:\n",
    "            data = {}\n",
    "            for val,col in zip(res,myCursor.description):\n",
    "                data[col[0]] = val\n",
    "            data_avail.append(data)\n",
    "        myCursor.close()\n",
    "    return data_avail\n",
    "\n",
    "checkFetch_data(data_full=[{'tf1':0,'tf2':1}],db_name='test',tb_name='testing_functions',id_cols=['tf1','tf2'])"
   ]
  },
  {
   "cell_type": "code",
   "execution_count": 20,
   "metadata": {},
   "outputs": [
    {
     "data": {
      "text/plain": [
       "True"
      ]
     },
     "execution_count": 20,
     "metadata": {},
     "output_type": "execute_result"
    }
   ],
   "source": [
    "def update_data(new_data,id_name,id_cols,tb_name,db_name):\n",
    "    labels=[i for i in new_data[0].keys()]\n",
    "    labels.pop(labels.index(id_cols))\n",
    "    for i in new_data:\n",
    "        for x in labels:\n",
    "            try:\n",
    "                mydb=mysql.connector.connect(host='localhost',user='root',password='sql05CB2021',database=db_name)\n",
    "                myCursor=mydb.cursor()\n",
    "                execute='UPDATE {tb_n} SET {col_chg} = %s WHERE {col_ref} = %s'.format(tb_n=tb_name,col_chg=x,col_ref=id_cols)\n",
    "                vals=(i[x],id_name)\n",
    "                myCursor.execute(execute,vals)\n",
    "                mydb.commit()\n",
    "                myCursor.close()\n",
    "            except mydb.connector.Error:\n",
    "                return False\n",
    "    return True\n",
    "update_data(new_data=df,id_name=1,id_cols='tf1',tb_name='testing_functions',db_name='test')"
   ]
  },
  {
   "cell_type": "code",
   "execution_count": 77,
   "metadata": {},
   "outputs": [
    {
     "data": {
      "text/plain": [
       "True"
      ]
     },
     "execution_count": 77,
     "metadata": {},
     "output_type": "execute_result"
    }
   ],
   "source": [
    "def insert_data(data,database_name,table_name):\n",
    "    #set order of \n",
    "    data_labels = list(data[0].keys())\n",
    "    label_ins = ''\n",
    "    for x in data_labels:\n",
    "        label_ins += x+','\n",
    "    data_full = []\n",
    "    for i in data:\n",
    "        data_full.append(tuple(i.values()))\n",
    "    try:\n",
    "        mydb = mysql.connector.connect(host='localhost',user='root',password='sql05CB2021',database=database_name)\n",
    "        myCursor = mydb.cursor()\n",
    "        execute = 'INSERT INTO {table_n} ({cols}) VALUES (%s,%s)'.format(table_n=table_name,cols=label_ins[:-1])\n",
    "        myCursor.executemany(execute,data_full)\n",
    "        mydb.commit()\n",
    "        myCursor.close()\n",
    "    except mysql.connector.Error as err:\n",
    "        return False,err\n",
    "    return True\n",
    "\n",
    "insert_data(data=df,database_name='test',table_name='testing_functions')     "
   ]
  },
  {
   "cell_type": "code",
   "execution_count": 4,
   "metadata": {},
   "outputs": [],
   "source": [
    "import dbHandler as handle"
   ]
  },
  {
   "cell_type": "code",
   "execution_count": 5,
   "metadata": {},
   "outputs": [
    {
     "data": {
      "text/plain": [
       "True"
      ]
     },
     "execution_count": 5,
     "metadata": {},
     "output_type": "execute_result"
    }
   ],
   "source": [
    "db = handle.dbHandler()\n",
    "db.insert_data(data=df,database_name='test',table_name='testing_functions')"
   ]
  },
  {
   "cell_type": "code",
   "execution_count": 2,
   "metadata": {},
   "outputs": [],
   "source": [
    "#selfs initiate dbs under __init__\n",
    "#create statements to be reusable for function\n",
    "#under this is for db_datawarehouse\n",
    "create_sp = 'CREATE TABLE tb_stock_profile (symbol CHAR(10),\\\n",
    "name VARCHAR(50) NOT NULL,\\\n",
    "f_exchange CHAR(10),\\\n",
    "sector CHAR(50),\\\n",
    "link VARCHAR(100),\\\n",
    "PRIMARY KEY (symbol))'\n",
    "\n",
    "create_n = 'CREATE TABLE tb_news (stock_news_id INT AUTO_INCREMENT,\\\n",
    "symbol CHAR(10) NOT NULL,\\\n",
    "news_date_published DATE NOT NULL,\\\n",
    "news_news_title VARCHAR(1000),\\\n",
    "news_content VARCHAR(100000),\\\n",
    "news_link VARCHAR(1000),\\\n",
    "PRIMARY KEY (stock_news_id),\\\n",
    "FOREIGN KEY (symbol) REFERENCES tb_stock_profile(symbol))'\n",
    "\n",
    "create_shwh = 'CREATE TABLE tb_stock_history_wh (stockhist_id INT AUTO_INCREMENT,\\\n",
    "symbol CHAR(10),\\\n",
    "hist_date DATE NOT NULL,\\\n",
    "hist_open_price DECIMAL(5,2),\\\n",
    "hist_high_price DECIMAL(5,2),\\\n",
    "hist_low_price DECIMAL(5,2),\\\n",
    "hist_close_price DECIMAL(5,2),\\\n",
    "hist_volume_avg BIGINT,\\\n",
    "hist_chg_rate DECIMAL(5,2),\\\n",
    "PRIMARY KEY (stockhist_id),\\\n",
    "FOREIGN KEY (symbol) REFERENCES tb_stock_profile(symbol))'\n",
    "\n",
    "create_scvwh = 'CREATE TABLE tb_stock_compView_wh (compview_id INT AUTO_INCREMENT,\\\n",
    "symbol CHAR(10),\\\n",
    "cv_date_recorded DATE NOT NULL,\\\n",
    "cv_52_week_high DECIMAL(5,2),\\\n",
    "cv_52_week_low DECIMAL(5,2),\\\n",
    "cv_market_cap BIGINT,\\\n",
    "cv_shares_outstanding BIGINT,\\\n",
    "cv_public_float BIGINT,\\\n",
    "cv_beta DECIMAL(5,2),\\\n",
    "cv_rev_per_employee BIGINT,\\\n",
    "cv_pe_ratio DECIMAL(5,2),\\\n",
    "cv_eps DECIMAL(5,2),\\\n",
    "cv_yield DECIMAL(5,2),\\\n",
    "cv_dividend DECIMAL(5,2),\\\n",
    "cv_ex_dividend_date DATE,\\\n",
    "cv_short_interest BIGINT,\\\n",
    "cv_percent_float_shorted DECIMAL(5,2),\\\n",
    "cv_average_volume BIGINT,\\\n",
    "PRIMARY KEY (compview_id),\\\n",
    "FOREIGN KEY (symbol) REFERENCES tb_stock_profile(symbol))'\n",
    "\n",
    "dw_list={'tb_stock_profile':create_sp,'tb_news':create_n,'tb_stock_history_wh':create_shwh,'tb_stock_compView_wh':create_scvwh}\n",
    "\n",
    "#the ones under here are for db_lakes\n",
    "\n",
    "create_ovl = 'CREATE TABLE tb_overview_l (symbol CHAR(10),\\\n",
    "overview_date DATE,\\\n",
    "overview_open VARCHAR(100),\\\n",
    "overview_day_range VARCHAR(100),\\\n",
    "overview_52_week_range VARCHAR(100),\\\n",
    "overview_market_cap VARCHAR(100),\\\n",
    "overview_shares_outstanding VARCHAR(100),\\\n",
    "overview_public_float VARCHAR(100),\\\n",
    "overview_beta VARCHAR(100),\\\n",
    "overview_rev_per_employee VARCHAR(100),\\\n",
    "overview_pe_ratio VARCHAR(100),\\\n",
    "overview_eps VARCHAR(100),\\\n",
    "overview_yield VARCHAR(100),\\\n",
    "overview_dividend VARCHAR(100),\\\n",
    "overview_ex_dividend_date VARCHAR(100),\\\n",
    "overview_short_interest VARCHAR(100),\\\n",
    "overview_percent_of_float_shorted VARCHAR(100),\\\n",
    "overview_average_volume VARCHAR(100),\\\n",
    "overview_statusNow VARCHAR(100),\\\n",
    "overview_priceNow VARCHAR(100),\\\n",
    "overview_volumeNow VARCHAR(100),\\\n",
    "overview_lastpriceNow VARCHAR(100))'\n",
    "\n",
    "create_nl = 'CREATE TABLE tb_news_l (comp_name VARCHAR(350),\\\n",
    "news_date_published DATE,\\\n",
    "news_title VARCHAR(500),\\\n",
    "news_link VARCHAR(1000))'\n",
    "\n",
    "dl_list={'tb_overview_l':create_ovl,'tb_news_l':create_nl}\n",
    "\n",
    "#datamart db\n",
    "\n",
    "create_sa = 'CREATE TABLE tb_sector_analysis (sa_id INT AUTO_INCREMENT,\\\n",
    "sector_name CHAR(50) NOT NULL,\\\n",
    "date_recorded DATE,\\\n",
    "comp_count INT,\\\n",
    "average_price decimal(5,2),\\\n",
    "sma_calc DECIMAL(5,2),\\\n",
    "lowest_chg DECIMAL(5,2),\\\n",
    "highest_chg DECIMAL(5,2),\\\n",
    "average_chg DECIMAL(5,2),\\\n",
    "public_held DECIMAL(5,2),\\\n",
    "ave_pe_ratio DECIMAL(5,2),\\\n",
    "lowest_pe_ratio DECIMAL(5,2),\\\n",
    "highest_pe_ratio DECIMAL(5,2),\\\n",
    "ave_eps DECIMAL(5,2),\\\n",
    "lowest_eps DECIMAL(5,2),\\\n",
    "highest_eps DECIMAL(5,2),\\\n",
    "ave_yield DECIMAL(5,2),\\\n",
    "ave_dividend DECIMAL(5,2),\\\n",
    "ave_short_interest BIGINT,\\\n",
    "average65_volume BIGINT,\\\n",
    "sma10_volume BIGINT,\\\n",
    "avechg_volume BIGINT,\\\n",
    "lowest_price DECIMAL(5,2),\\\n",
    "highest_price DECIMAL(5,2),\\\n",
    "no_news_per_month INT,\\\n",
    "positive_news_percent DECIMAL(5,2),\\\n",
    "negative_news_percent DECIMAL(5,2),\\\n",
    "PRIMARY KEY (sa_id))'\n",
    "\n",
    "dm_list={'tb_sector_analysis':create_sa}"
   ]
  },
  {
   "cell_type": "code",
   "execution_count": 3,
   "metadata": {},
   "outputs": [],
   "source": [
    "db_checkList = {'db_datalake':dl_list,'db_datawarehouse':dw_list,'db_datamart':dm_list}"
   ]
  },
  {
   "cell_type": "code",
   "execution_count": 1,
   "metadata": {},
   "outputs": [],
   "source": [
    "import dbHandler as handler"
   ]
  },
  {
   "cell_type": "code",
   "execution_count": 5,
   "metadata": {},
   "outputs": [
    {
     "ename": "ProgrammingError",
     "evalue": "1064 (42000): You have an error in your SQL syntax; check the manual that corresponds to your MariaDB server version for the right syntax to use near 'WHERE tf2 =1' at line 1",
     "output_type": "error",
     "traceback": [
      "\u001b[1;31m---------------------------------------------------------------------------\u001b[0m",
      "\u001b[1;31mMySQLInterfaceError\u001b[0m                       Traceback (most recent call last)",
      "\u001b[1;32mc:\\users\\chris\\appdata\\local\\programs\\python\\python38\\lib\\site-packages\\mysql\\connector\\connection_cext.py\u001b[0m in \u001b[0;36mcmd_query\u001b[1;34m(self, query, raw, buffered, raw_as_string)\u001b[0m\n\u001b[0;32m    516\u001b[0m                 \u001b[0mquery\u001b[0m \u001b[1;33m=\u001b[0m \u001b[0mquery\u001b[0m\u001b[1;33m.\u001b[0m\u001b[0mencode\u001b[0m\u001b[1;33m(\u001b[0m\u001b[1;34m'utf-8'\u001b[0m\u001b[1;33m)\u001b[0m\u001b[1;33m\u001b[0m\u001b[1;33m\u001b[0m\u001b[0m\n\u001b[1;32m--> 517\u001b[1;33m             self._cmysql.query(query,\n\u001b[0m\u001b[0;32m    518\u001b[0m                                \u001b[0mraw\u001b[0m\u001b[1;33m=\u001b[0m\u001b[0mraw\u001b[0m\u001b[1;33m,\u001b[0m \u001b[0mbuffered\u001b[0m\u001b[1;33m=\u001b[0m\u001b[0mbuffered\u001b[0m\u001b[1;33m,\u001b[0m\u001b[1;33m\u001b[0m\u001b[1;33m\u001b[0m\u001b[0m\n",
      "\u001b[1;31mMySQLInterfaceError\u001b[0m: You have an error in your SQL syntax; check the manual that corresponds to your MariaDB server version for the right syntax to use near 'WHERE tf2 =1' at line 1",
      "\nDuring handling of the above exception, another exception occurred:\n",
      "\u001b[1;31mProgrammingError\u001b[0m                          Traceback (most recent call last)",
      "\u001b[1;32m<ipython-input-5-9da2fabf6ec1>\u001b[0m in \u001b[0;36m<module>\u001b[1;34m\u001b[0m\n\u001b[0;32m      1\u001b[0m \u001b[0mdb\u001b[0m \u001b[1;33m=\u001b[0m \u001b[0mhandler\u001b[0m\u001b[1;33m.\u001b[0m\u001b[0mdbHandler\u001b[0m\u001b[1;33m(\u001b[0m\u001b[1;33m)\u001b[0m\u001b[1;33m\u001b[0m\u001b[1;33m\u001b[0m\u001b[0m\n\u001b[1;32m----> 2\u001b[1;33m \u001b[0mdb\u001b[0m\u001b[1;33m.\u001b[0m\u001b[0mcheckFetch_data\u001b[0m\u001b[1;33m(\u001b[0m\u001b[0mdata_full\u001b[0m\u001b[1;33m=\u001b[0m\u001b[1;33m[\u001b[0m\u001b[1;33m{\u001b[0m\u001b[1;34m'tf1'\u001b[0m\u001b[1;33m:\u001b[0m\u001b[1;36m1\u001b[0m\u001b[1;33m,\u001b[0m\u001b[1;34m'tf2'\u001b[0m\u001b[1;33m:\u001b[0m\u001b[1;36m1\u001b[0m\u001b[1;33m}\u001b[0m\u001b[1;33m]\u001b[0m\u001b[1;33m,\u001b[0m\u001b[0mdb_name\u001b[0m\u001b[1;33m=\u001b[0m\u001b[1;34m'test'\u001b[0m\u001b[1;33m,\u001b[0m\u001b[0mtb_name\u001b[0m\u001b[1;33m=\u001b[0m\u001b[1;34m'testing_functions'\u001b[0m\u001b[1;33m,\u001b[0m\u001b[0mid_cols\u001b[0m\u001b[1;33m=\u001b[0m\u001b[1;33m[\u001b[0m\u001b[1;34m'tf1'\u001b[0m\u001b[1;33m,\u001b[0m\u001b[1;34m'tf2'\u001b[0m\u001b[1;33m]\u001b[0m\u001b[1;33m)\u001b[0m\u001b[1;33m\u001b[0m\u001b[1;33m\u001b[0m\u001b[0m\n\u001b[0m",
      "\u001b[1;32mY:\\ASSORT\\002 - Initial Data Repository\\IDE Data\\Jupyter\\NB Playground\\dbHandler.py\u001b[0m in \u001b[0;36mcheckFetch_data\u001b[1;34m(self, data_full, db_name, tb_name, id_cols)\u001b[0m\n\u001b[0;32m    182\u001b[0m             \u001b[0mmydb\u001b[0m \u001b[1;33m=\u001b[0m \u001b[0mmysql\u001b[0m\u001b[1;33m.\u001b[0m\u001b[0mconnector\u001b[0m\u001b[1;33m.\u001b[0m\u001b[0mconnect\u001b[0m\u001b[1;33m(\u001b[0m\u001b[0mhost\u001b[0m\u001b[1;33m=\u001b[0m\u001b[0mself\u001b[0m\u001b[1;33m.\u001b[0m\u001b[0mhost\u001b[0m\u001b[1;33m,\u001b[0m\u001b[0muser\u001b[0m\u001b[1;33m=\u001b[0m\u001b[0mself\u001b[0m\u001b[1;33m.\u001b[0m\u001b[0muser\u001b[0m\u001b[1;33m,\u001b[0m\u001b[0mpassword\u001b[0m\u001b[1;33m=\u001b[0m\u001b[0mself\u001b[0m\u001b[1;33m.\u001b[0m\u001b[0mpassword\u001b[0m\u001b[1;33m,\u001b[0m\u001b[0mdatabase\u001b[0m\u001b[1;33m=\u001b[0m\u001b[0mdb_name\u001b[0m\u001b[1;33m)\u001b[0m\u001b[1;33m\u001b[0m\u001b[1;33m\u001b[0m\u001b[0m\n\u001b[0;32m    183\u001b[0m             \u001b[0mmyCursor\u001b[0m \u001b[1;33m=\u001b[0m \u001b[0mmydb\u001b[0m\u001b[1;33m.\u001b[0m\u001b[0mcursor\u001b[0m\u001b[1;33m(\u001b[0m\u001b[1;33m)\u001b[0m\u001b[1;33m\u001b[0m\u001b[1;33m\u001b[0m\u001b[0m\n\u001b[1;32m--> 184\u001b[1;33m             \u001b[0mmyCursor\u001b[0m\u001b[1;33m.\u001b[0m\u001b[0mexecute\u001b[0m\u001b[1;33m(\u001b[0m\u001b[0mexecute\u001b[0m\u001b[1;33m)\u001b[0m\u001b[1;33m\u001b[0m\u001b[1;33m\u001b[0m\u001b[0m\n\u001b[0m\u001b[0;32m    185\u001b[0m             \u001b[0mresults\u001b[0m \u001b[1;33m=\u001b[0m \u001b[0mmyCursor\u001b[0m\u001b[1;33m.\u001b[0m\u001b[0mfetchall\u001b[0m\u001b[1;33m(\u001b[0m\u001b[1;33m)\u001b[0m\u001b[1;33m\u001b[0m\u001b[1;33m\u001b[0m\u001b[0m\n\u001b[0;32m    186\u001b[0m             \u001b[1;32mfor\u001b[0m \u001b[0mres\u001b[0m \u001b[1;32min\u001b[0m \u001b[0mresults\u001b[0m\u001b[1;33m:\u001b[0m\u001b[1;33m\u001b[0m\u001b[1;33m\u001b[0m\u001b[0m\n",
      "\u001b[1;32mc:\\users\\chris\\appdata\\local\\programs\\python\\python38\\lib\\site-packages\\mysql\\connector\\cursor_cext.py\u001b[0m in \u001b[0;36mexecute\u001b[1;34m(self, operation, params, multi)\u001b[0m\n\u001b[0;32m    268\u001b[0m \u001b[1;33m\u001b[0m\u001b[0m\n\u001b[0;32m    269\u001b[0m         \u001b[1;32mtry\u001b[0m\u001b[1;33m:\u001b[0m\u001b[1;33m\u001b[0m\u001b[1;33m\u001b[0m\u001b[0m\n\u001b[1;32m--> 270\u001b[1;33m             result = self._cnx.cmd_query(stmt, raw=self._raw,\n\u001b[0m\u001b[0;32m    271\u001b[0m                                          \u001b[0mbuffered\u001b[0m\u001b[1;33m=\u001b[0m\u001b[0mself\u001b[0m\u001b[1;33m.\u001b[0m\u001b[0m_buffered\u001b[0m\u001b[1;33m,\u001b[0m\u001b[1;33m\u001b[0m\u001b[1;33m\u001b[0m\u001b[0m\n\u001b[0;32m    272\u001b[0m                                          raw_as_string=self._raw_as_string)\n",
      "\u001b[1;32mc:\\users\\chris\\appdata\\local\\programs\\python\\python38\\lib\\site-packages\\mysql\\connector\\connection_cext.py\u001b[0m in \u001b[0;36mcmd_query\u001b[1;34m(self, query, raw, buffered, raw_as_string)\u001b[0m\n\u001b[0;32m    520\u001b[0m                                query_attrs=self._query_attrs)\n\u001b[0;32m    521\u001b[0m         \u001b[1;32mexcept\u001b[0m \u001b[0mMySQLInterfaceError\u001b[0m \u001b[1;32mas\u001b[0m \u001b[0mexc\u001b[0m\u001b[1;33m:\u001b[0m\u001b[1;33m\u001b[0m\u001b[1;33m\u001b[0m\u001b[0m\n\u001b[1;32m--> 522\u001b[1;33m             raise errors.get_mysql_exception(exc.errno, msg=exc.msg,\n\u001b[0m\u001b[0;32m    523\u001b[0m                                              sqlstate=exc.sqlstate)\n\u001b[0;32m    524\u001b[0m         \u001b[1;32mexcept\u001b[0m \u001b[0mAttributeError\u001b[0m\u001b[1;33m:\u001b[0m\u001b[1;33m\u001b[0m\u001b[1;33m\u001b[0m\u001b[0m\n",
      "\u001b[1;31mProgrammingError\u001b[0m: 1064 (42000): You have an error in your SQL syntax; check the manual that corresponds to your MariaDB server version for the right syntax to use near 'WHERE tf2 =1' at line 1"
     ]
    }
   ],
   "source": [
    "db = handler.dbHandler()\n",
    "db.checkFetch_data(data_full=[{'tf1':1,'tf2':1}],db_name='test',tb_name='testing_functions',id_cols=['tf1','tf2'])"
   ]
  },
  {
   "cell_type": "code",
   "execution_count": 5,
   "metadata": {},
   "outputs": [
    {
     "data": {
      "text/plain": [
       "(True, 'compiled & created')"
      ]
     },
     "execution_count": 5,
     "metadata": {},
     "output_type": "execute_result"
    }
   ],
   "source": [
    "def conn_handshake(db_list=None):\n",
    "    dbs_avail = []\n",
    "    dbs_non_ext = []\n",
    "    try:\n",
    "        mydb = mysql.connector.connect(host='localhost',user='root',password='sql05CB2021')\n",
    "        myCursor = mydb.cursor()\n",
    "        myCursor.execute('SHOW DATABASES')\n",
    "        dbs_avail = [i[0] for i in myCursor]\n",
    "        for x in list(db_checkList.keys()):\n",
    "            if x in dbs_avail:\n",
    "                myTb = mysql.connector.connect(host='localhost',user='root',password='sql05CB2021',database=x)\n",
    "                myCursorTable = myTb.cursor()\n",
    "                myCursorTable.execute('SHOW TABLES')\n",
    "                tablesAvail = [i[0] for i in myCursorTable]\n",
    "                for i in db_checkList[x].keys():\n",
    "                    try:\n",
    "                        if i in tablesAvail:\n",
    "                            continue\n",
    "                        else:\n",
    "                            myCursorTable.execute(db_checkList[x][i])\n",
    "                    except mysql.connector.Error as er:\n",
    "                        continue\n",
    "                myCursorTable.close()\n",
    "            else:\n",
    "                myDb2 = mysql.connector.connect(host='localhost',user='root',password='sql05CB2021')\n",
    "                myCursorDb = myDb2.cursor()\n",
    "                myCursorDb.execute('CREATE DATABASE {db}'.format(db=x))\n",
    "                myCursorDb.close()\n",
    "                myTb2 = mysql.connector.connect(host='localhost',user='root',password='sql05CB2021',database=x)\n",
    "                myCursorTb = myTb2.cursor()\n",
    "                for a in db_checkList[x].keys():\n",
    "                    print(db_checkList[x][a])\n",
    "                    myCursorTb.execute(db_checkList[x][a])\n",
    "                myCursorTb.close()\n",
    "    except mysql.connector.Error as err:\n",
    "        myCursor.close()\n",
    "        return (False,'error: {er}'.format(er=err))\n",
    "    myCursor.close()\n",
    "    \n",
    "    return (True,'compiled & created')\n",
    "\n",
    "conn_handshake()"
   ]
  },
  {
   "cell_type": "code",
   "execution_count": null,
   "metadata": {},
   "outputs": [],
   "source": [
    "def initiate_start():\n",
    "    #"
   ]
  },
  {
   "cell_type": "code",
   "execution_count": null,
   "metadata": {},
   "outputs": [],
   "source": [
    "class dbHandler:\n",
    "    def __init__(self):\n",
    "        pass\n",
    "    def conn_handshake():\n",
    "        pass\n",
    "    def insert_data():\n",
    "        pass\n",
    "    def updated_data():\n",
    "        pass\n",
    "    def delete_data():\n",
    "        pass\n",
    "    \n",
    "    "
   ]
  }
 ],
 "metadata": {
  "kernelspec": {
   "display_name": "Python 3",
   "language": "python",
   "name": "python3"
  },
  "language_info": {
   "codemirror_mode": {
    "name": "ipython",
    "version": 3
   },
   "file_extension": ".py",
   "mimetype": "text/x-python",
   "name": "python",
   "nbconvert_exporter": "python",
   "pygments_lexer": "ipython3",
   "version": "3.8.5"
  }
 },
 "nbformat": 4,
 "nbformat_minor": 4
}
